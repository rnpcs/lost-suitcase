{
 "cells": [
  {
   "cell_type": "code",
   "execution_count": 5,
   "metadata": {},
   "outputs": [
    {
     "name": "stdout",
     "output_type": "stream",
     "text": "Defaulting to user installation because normal site-packages is not writeable\nRequirement already satisfied: pandas in /home/aaron/.local/lib/python3.6/site-packages (1.0.0)\nRequirement already satisfied: pytz>=2017.2 in /usr/lib/python3/dist-packages (from pandas) (2018.3)\nRequirement already satisfied: numpy>=1.13.3 in /home/aaron/.local/lib/python3.6/site-packages (from pandas) (1.18.1)\nRequirement already satisfied: python-dateutil>=2.6.1 in /home/aaron/.local/lib/python3.6/site-packages (from pandas) (2.8.1)\nRequirement already satisfied: six>=1.5 in /home/aaron/.local/lib/python3.6/site-packages (from python-dateutil>=2.6.1->pandas) (1.14.0)\n\u001b[33mWARNING: You are using pip version 20.0.1; however, version 20.0.2 is available.\nYou should consider upgrading via the '/usr/bin/python3 -m pip install --upgrade pip' command.\u001b[0m\n"
    }
   ],
   "source": "!pip3 install pandas"
  },
  {
   "cell_type": "code",
   "execution_count": 2,
   "metadata": {},
   "outputs": [
    {
     "ename": "ImportError",
     "evalue": "No module named pandas",
     "output_type": "error",
     "traceback": [
      "\u001b[0;31m---------------------------------------------------------------------------\u001b[0m",
      "\u001b[0;31mImportError\u001b[0m                               Traceback (most recent call last)",
      "\u001b[0;32m<ipython-input-2-7d9d5f10847c>\u001b[0m in \u001b[0;36m<module>\u001b[0;34m()\u001b[0m\n\u001b[1;32m      4\u001b[0m \u001b[0;32mimport\u001b[0m \u001b[0mmath\u001b[0m\u001b[0;34m\u001b[0m\u001b[0m\n\u001b[1;32m      5\u001b[0m \u001b[0;31m#import folium\u001b[0m\u001b[0;34m\u001b[0m\u001b[0;34m\u001b[0m\u001b[0m\n\u001b[0;32m----> 6\u001b[0;31m \u001b[0;32mimport\u001b[0m \u001b[0mpandas\u001b[0m \u001b[0;32mas\u001b[0m \u001b[0mpd\u001b[0m\u001b[0;34m\u001b[0m\u001b[0m\n\u001b[0m\u001b[1;32m      7\u001b[0m \u001b[0;32mimport\u001b[0m \u001b[0mwebbrowser\u001b[0m\u001b[0;34m\u001b[0m\u001b[0m\n",
      "\u001b[0;31mImportError\u001b[0m: No module named pandas"
     ]
    }
   ],
   "source": "\nimport requests\nimport xml.etree.ElementTree as ET\nimport math\n#import folium\nimport pandas as pd\nimport webbrowser "
  },
  {
   "cell_type": "code",
   "execution_count": 3,
   "metadata": {},
   "outputs": [],
   "source": "jlat = 41.980262\njlon = -87.668452\nlat_list = [ jlat ]\nlon_list = [ jlon ]\nname_list = [ 'You are here']"
  },
  {
   "cell_type": "code",
   "execution_count": 4,
   "metadata": {},
   "outputs": [],
   "source": "url = 'http://ctabustracker.com/bustime/map/getBusesForRoute.jsp?route=22'\n"
  },
  {
   "cell_type": "code",
   "execution_count": 5,
   "metadata": {},
   "outputs": [
    {
     "ename": "IndentationError",
     "evalue": "expected an indented block (<ipython-input-5-e6003be01787>, line 21)",
     "output_type": "error",
     "traceback": [
      "\u001b[0;36m  File \u001b[0;32m\"<ipython-input-5-e6003be01787>\"\u001b[0;36m, line \u001b[0;32m21\u001b[0m\n\u001b[0;31m    folium.Marker([data.iloc[i]['lon'], data.iloc[i]['lat']], popup=data.iloc[i]['name']).add_to(m)\u001b[0m\n\u001b[0m         ^\u001b[0m\n\u001b[0;31mIndentationError\u001b[0m\u001b[0;31m:\u001b[0m expected an indented block\n"
     ]
    }
   ],
   "source": "def tagging(lat, lon, name):\n\n    lat_list.append(lat)\n    lon_list.append(lon)\n    name_list.append(name)\n\n    dict2 = {\n    'lat':lat_list,\n    'lon':lon_list,\n    'name':name_list\n    }\n\n    #dict2.update({'name': ['1915'], 'lon': [42.01785545918479], 'lat': [-87.6729736328125]})\n    data = pd.DataFrame.from_dict(dict2)\n\n    # Make an empty map\n    m = folium.Map(location=[41.980262,-87.6683349609375 ], tiles=\"StamenToner\", zoom_start=12.5)\n\n    # I can add marker one by one on the map\n    for i in range(0,len(data)):\n    folium.Marker([data.iloc[i]['lon'], data.iloc[i]['lat']], popup=data.iloc[i]['name']).add_to(m)\n\n    # Save it as html\n    m.save('312_markers_on_folium_map1.html')\n    url2=('312_markers_on_folium_map1.html')\n    webbrowser.open_new(url2)\n\n    return"
  },
  {
   "cell_type": "code",
   "execution_count": 6,
   "metadata": {},
   "outputs": [],
   "source": "def haversine(lat1, lon1, lat2, lon2):\n    toRad = math.pi / 180\n    # distance between latitudes \n    # and longitudes \n    dLat = (lat2 - lat1) * math.pi / 180\n    dLon = (lon2 - lon1) * math.pi / 180\n  \n    # convert to radians \n    lat1 = (lat1) * math.pi / 180\n    lat2 = (lat2) * math.pi / 180\n  \n    # apply formulae \n    a = (pow(math.sin(dLat / 2), 2) + \n         pow(math.sin(dLon / 2), 2) * \n             math.cos(lat1) * math.cos(lat2)); \n    rad = 6371\n    c = 2 * math.asin(math.sqrt(a)) \n    return rad * c "
  },
  {
   "cell_type": "code",
   "execution_count": 7,
   "metadata": {},
   "outputs": [],
   "source": "def getData():\n    \n\n    for bus in root.findall('bus'):\n        lat_list = [ jlat ]\n        lon_list = [ jlon ]\n        name_list = [ 'You are here']\n        \n        id_no = bus.find('id').text\n        d = bus.find('d').text\n        lat = float(bus.find('lat').text)\n        lon  = float(bus.find('lon').text)\n        \n        if d == 'North Bound':\n            dis = haversine(lat, lon , jlat, jlon)\n            print((\"Bus ID :%s,  %s direction \\n%0.2f km from the office\\n \")%(id_no, d, dis))\n            \n            if dis < 1 :\n                print('hi')\n                #tagging(lat, lon, id_no)\n                \n                \n            \n                \n    \n    return id_no, d,lat, lon, dis\n"
  },
  {
   "cell_type": "code",
   "execution_count": 8,
   "metadata": {},
   "outputs": [],
   "source": "\nresp = requests.get(url)\n\nwith open('training2.xml', 'wb') as f:\n    f.write(resp.content)"
  },
  {
   "cell_type": "code",
   "execution_count": 9,
   "metadata": {},
   "outputs": [],
   "source": "tree = ET.parse(\"training2.xml\")\nroot = tree.getroot()"
  },
  {
   "cell_type": "code",
   "execution_count": 10,
   "metadata": {},
   "outputs": [
    {
     "data": {
      "text/plain": "'buses'"
     },
     "execution_count": 10,
     "metadata": {},
     "output_type": "execute_result"
    }
   ],
   "source": "root.tag"
  },
  {
   "cell_type": "code",
   "execution_count": 11,
   "metadata": {},
   "outputs": [
    {
     "data": {
      "text/plain": "{'rt': '22', 'rtRtpiFeedName': '', 'rtdd': '22'}"
     },
     "execution_count": 11,
     "metadata": {},
     "output_type": "execute_result"
    }
   ],
   "source": "root.attrib"
  },
  {
   "cell_type": "code",
   "execution_count": 30,
   "metadata": {},
   "outputs": [
    {
     "name": "stdout",
     "output_type": "stream",
     "text": "('time', '8:54 PM')\n('bus', '\\n\\t\\t\\t')\n('bus', '\\n\\t\\t\\t')\n('bus', '\\n\\t\\t\\t')\n('bus', '\\n\\t\\t\\t')\n('bus', '\\n\\t\\t\\t')\n('bus', '\\n\\t\\t\\t')\n('bus', '\\n\\t\\t\\t')\n('bus', '\\n\\t\\t\\t')\n('bus', '\\n\\t\\t\\t')\n('bus', '\\n\\t\\t\\t')\n('bus', '\\n\\t\\t\\t')\n"
    }
   ],
   "source": "\nfor child in root:\n    print(child.tag, child.text)"
  },
  {
   "cell_type": "code",
   "execution_count": 49,
   "metadata": {},
   "outputs": [
    {
     "name": "stdout",
     "output_type": "stream",
     "text": "8:54 PM\n"
    }
   ],
   "source": "for time in root.findall('time'):\n    currTime=bus.text\nprint(currTime)"
  },
  {
   "cell_type": "code",
   "execution_count": 43,
   "metadata": {},
   "outputs": [
    {
     "data": {
      "text/plain": "['buses',\n 'time',\n 'bus',\n 'id',\n 'consist',\n 'cars',\n 'rtpiFeedName',\n 'm',\n 'rt',\n 'rtRtpiFeedName',\n 'rtdd',\n 'd',\n 'dd',\n 'dn',\n 'lat',\n 'lon',\n 'pid',\n 'pd',\n 'pdRtpiFeedName',\n 'run',\n 'fs',\n 'op',\n 'dip',\n 'bid',\n 'wid1',\n 'wid2',\n 'bus',\n 'id',\n 'consist',\n 'cars',\n 'rtpiFeedName',\n 'm',\n 'rt',\n 'rtRtpiFeedName',\n 'rtdd',\n 'd',\n 'dd',\n 'dn',\n 'lat',\n 'lon',\n 'pid',\n 'pd',\n 'pdRtpiFeedName',\n 'run',\n 'fs',\n 'op',\n 'dip',\n 'bid',\n 'wid1',\n 'wid2',\n 'bus',\n 'id',\n 'consist',\n 'cars',\n 'rtpiFeedName',\n 'm',\n 'rt',\n 'rtRtpiFeedName',\n 'rtdd',\n 'd',\n 'dd',\n 'dn',\n 'lat',\n 'lon',\n 'pid',\n 'pd',\n 'pdRtpiFeedName',\n 'run',\n 'fs',\n 'op',\n 'dip',\n 'bid',\n 'wid1',\n 'wid2',\n 'bus',\n 'id',\n 'consist',\n 'cars',\n 'rtpiFeedName',\n 'm',\n 'rt',\n 'rtRtpiFeedName',\n 'rtdd',\n 'd',\n 'dd',\n 'dn',\n 'lat',\n 'lon',\n 'pid',\n 'pd',\n 'pdRtpiFeedName',\n 'run',\n 'fs',\n 'op',\n 'dip',\n 'bid',\n 'wid1',\n 'wid2',\n 'bus',\n 'id',\n 'consist',\n 'cars',\n 'rtpiFeedName',\n 'm',\n 'rt',\n 'rtRtpiFeedName',\n 'rtdd',\n 'd',\n 'dd',\n 'dn',\n 'lat',\n 'lon',\n 'pid',\n 'pd',\n 'pdRtpiFeedName',\n 'run',\n 'fs',\n 'op',\n 'dip',\n 'bid',\n 'wid1',\n 'wid2',\n 'bus',\n 'id',\n 'consist',\n 'cars',\n 'rtpiFeedName',\n 'm',\n 'rt',\n 'rtRtpiFeedName',\n 'rtdd',\n 'd',\n 'dd',\n 'dn',\n 'lat',\n 'lon',\n 'pid',\n 'pd',\n 'pdRtpiFeedName',\n 'run',\n 'fs',\n 'op',\n 'dip',\n 'bid',\n 'wid1',\n 'wid2',\n 'bus',\n 'id',\n 'consist',\n 'cars',\n 'rtpiFeedName',\n 'm',\n 'rt',\n 'rtRtpiFeedName',\n 'rtdd',\n 'd',\n 'dd',\n 'dn',\n 'lat',\n 'lon',\n 'pid',\n 'pd',\n 'pdRtpiFeedName',\n 'run',\n 'fs',\n 'op',\n 'dip',\n 'bid',\n 'wid1',\n 'wid2',\n 'bus',\n 'id',\n 'consist',\n 'cars',\n 'rtpiFeedName',\n 'm',\n 'rt',\n 'rtRtpiFeedName',\n 'rtdd',\n 'd',\n 'dd',\n 'dn',\n 'lat',\n 'lon',\n 'pid',\n 'pd',\n 'pdRtpiFeedName',\n 'run',\n 'fs',\n 'op',\n 'dip',\n 'bid',\n 'wid1',\n 'wid2',\n 'bus',\n 'id',\n 'consist',\n 'cars',\n 'rtpiFeedName',\n 'm',\n 'rt',\n 'rtRtpiFeedName',\n 'rtdd',\n 'd',\n 'dd',\n 'dn',\n 'lat',\n 'lon',\n 'pid',\n 'pd',\n 'pdRtpiFeedName',\n 'run',\n 'fs',\n 'op',\n 'dip',\n 'bid',\n 'wid1',\n 'wid2',\n 'bus',\n 'id',\n 'consist',\n 'cars',\n 'rtpiFeedName',\n 'm',\n 'rt',\n 'rtRtpiFeedName',\n 'rtdd',\n 'd',\n 'dd',\n 'dn',\n 'lat',\n 'lon',\n 'pid',\n 'pd',\n 'pdRtpiFeedName',\n 'run',\n 'fs',\n 'op',\n 'dip',\n 'bid',\n 'wid1',\n 'wid2',\n 'bus',\n 'id',\n 'consist',\n 'cars',\n 'rtpiFeedName',\n 'm',\n 'rt',\n 'rtRtpiFeedName',\n 'rtdd',\n 'd',\n 'dd',\n 'dn',\n 'lat',\n 'lon',\n 'pid',\n 'pd',\n 'pdRtpiFeedName',\n 'run',\n 'fs',\n 'op',\n 'dip',\n 'bid',\n 'wid1',\n 'wid2']"
     },
     "execution_count": 43,
     "metadata": {},
     "output_type": "execute_result"
    }
   ],
   "source": "[elem.tag for elem in root.iter()]"
  },
  {
   "cell_type": "code",
   "execution_count": 30,
   "metadata": {},
   "outputs": [
    {
     "name": "stdout",
     "output_type": "stream",
     "text": "Bus ID :1915,  North Bound direction \n9.09 km from the office\n \nBus ID :1928,  North Bound direction \n2.06 km from the office\n \n"
    }
   ],
   "source": "id_no, d,lat, lon,  dis = getData()"
  },
  {
   "cell_type": "code",
   "execution_count": null,
   "metadata": {},
   "outputs": [],
   "source": ""
  },
  {
   "cell_type": "code",
   "execution_count": null,
   "metadata": {},
   "outputs": [],
   "source": ""
  },
  {
   "cell_type": "code",
   "execution_count": null,
   "metadata": {},
   "outputs": [],
   "source": ""
  },
  {
   "cell_type": "code",
   "execution_count": null,
   "metadata": {},
   "outputs": [],
   "source": ""
  },
  {
   "cell_type": "code",
   "execution_count": null,
   "metadata": {},
   "outputs": [],
   "source": ""
  },
  {
   "cell_type": "code",
   "execution_count": 67,
   "metadata": {},
   "outputs": [
    {
     "name": "stdout",
     "output_type": "stream",
     "text": "{'1912': [41.98772958608774, -87.66956153282753, 0.8354066481283194]}\n"
    }
   ],
   "source": "print(dict1)"
  },
  {
   "cell_type": "code",
   "execution_count": 68,
   "metadata": {},
   "outputs": [],
   "source": "dict2 = {\n'lat':[-87.6683349609375 ],\n'lon':[  41.980262],\n'name':[ 'Jerry\\'s Office']\n}"
  },
  {
   "cell_type": "code",
   "execution_count": 46,
   "metadata": {},
   "outputs": [
    {
     "name": "stdout",
     "output_type": "stream",
     "text": "{'lat': [-87.6683349609375], 'lon': [41.980262], 'name': [\"Jerry's Office\"]}\n"
    }
   ],
   "source": "print(dict2)"
  },
  {
   "cell_type": "code",
   "execution_count": 49,
   "metadata": {},
   "outputs": [
    {
     "name": "stdout",
     "output_type": "stream",
     "text": "(42.01785545918479, -87.6729736328125, '1915')\n"
    }
   ],
   "source": "print(lat, lon, id_no)"
  },
  {
   "cell_type": "code",
   "execution_count": 55,
   "metadata": {},
   "outputs": [],
   "source": ""
  },
  {
   "cell_type": "code",
   "execution_count": 56,
   "metadata": {},
   "outputs": [
    {
     "name": "stdout",
     "output_type": "stream",
     "text": "{'name': ['1915'], 'lat': [42.01785545918479], 'lon': [-87.6729736328125]}\n"
    }
   ],
   "source": "print(dict2)"
  },
  {
   "cell_type": "code",
   "execution_count": null,
   "metadata": {},
   "outputs": [],
   "source": ""
  }
 ],
 "metadata": {
  "kernelspec": {
   "display_name": "Python 3",
   "language": "python",
   "name": "python3"
  },
  "language_info": {
   "codemirror_mode": {
    "name": "ipython",
    "version": 2
   },
   "file_extension": ".py",
   "mimetype": "text/x-python",
   "name": "python",
   "nbconvert_exporter": "python",
   "pygments_lexer": "ipython2",
   "version": "2.7.17"
  }
 },
 "nbformat": 4,
 "nbformat_minor": 4
}
